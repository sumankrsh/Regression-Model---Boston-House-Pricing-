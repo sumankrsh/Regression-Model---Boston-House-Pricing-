{
  "nbformat": 4,
  "nbformat_minor": 0,
  "metadata": {
    "colab": {
      "name": "Regression - Boston housing prices.ipynb",
      "provenance": [],
      "collapsed_sections": [],
      "include_colab_link": true
    },
    "kernelspec": {
      "name": "python3",
      "display_name": "Python 3"
    },
    "accelerator": "GPU"
  },
  "cells": [
    {
      "cell_type": "markdown",
      "metadata": {
        "id": "view-in-github",
        "colab_type": "text"
      },
      "source": [
        "<a href=\"https://colab.research.google.com/github/sumankrsh/Regression-Model---Boston-House-Pricing-/blob/main/Regression_Boston_housing_prices.ipynb\" target=\"_parent\"><img src=\"https://colab.research.google.com/assets/colab-badge.svg\" alt=\"Open In Colab\"/></a>"
      ]
    },
    {
      "cell_type": "markdown",
      "metadata": {
        "id": "teSVc4i7wTRh"
      },
      "source": [
        "# Boston housing price regression dataset\n",
        "Dataset taken from the StatLib library which is maintained at Carnegie Mellon University.\n",
        "\n",
        "Samples contain 13 attributes of houses at different locations around the Boston suburbs in the late 1970s. Targets are the median values of the houses at a location (in k$)."
      ]
    },
    {
      "cell_type": "markdown",
      "metadata": {
        "id": "ZOk8Eu4_t70R"
      },
      "source": [
        "Firstly, let's select TensorFlow version 2.x in colab"
      ]
    },
    {
      "cell_type": "code",
      "source": [
        "! pip install tensorflow"
      ],
      "metadata": {
        "colab": {
          "base_uri": "https://localhost:8080/"
        },
        "id": "gE_r0CiYOq_N",
        "outputId": "6ebb5bad-46b5-4e64-e3ea-5216812098c0"
      },
      "execution_count": 1,
      "outputs": [
        {
          "output_type": "stream",
          "name": "stdout",
          "text": [
            "Requirement already satisfied: tensorflow in /usr/local/lib/python3.7/dist-packages (2.8.0)\n",
            "Requirement already satisfied: keras<2.9,>=2.8.0rc0 in /usr/local/lib/python3.7/dist-packages (from tensorflow) (2.8.0)\n",
            "Requirement already satisfied: absl-py>=0.4.0 in /usr/local/lib/python3.7/dist-packages (from tensorflow) (1.0.0)\n",
            "Requirement already satisfied: numpy>=1.20 in /usr/local/lib/python3.7/dist-packages (from tensorflow) (1.21.5)\n",
            "Requirement already satisfied: setuptools in /usr/local/lib/python3.7/dist-packages (from tensorflow) (57.4.0)\n",
            "Requirement already satisfied: grpcio<2.0,>=1.24.3 in /usr/local/lib/python3.7/dist-packages (from tensorflow) (1.44.0)\n",
            "Requirement already satisfied: google-pasta>=0.1.1 in /usr/local/lib/python3.7/dist-packages (from tensorflow) (0.2.0)\n",
            "Requirement already satisfied: tensorboard<2.9,>=2.8 in /usr/local/lib/python3.7/dist-packages (from tensorflow) (2.8.0)\n",
            "Requirement already satisfied: protobuf>=3.9.2 in /usr/local/lib/python3.7/dist-packages (from tensorflow) (3.17.3)\n",
            "Requirement already satisfied: termcolor>=1.1.0 in /usr/local/lib/python3.7/dist-packages (from tensorflow) (1.1.0)\n",
            "Requirement already satisfied: six>=1.12.0 in /usr/local/lib/python3.7/dist-packages (from tensorflow) (1.15.0)\n",
            "Requirement already satisfied: wrapt>=1.11.0 in /usr/local/lib/python3.7/dist-packages (from tensorflow) (1.13.3)\n",
            "Requirement already satisfied: typing-extensions>=3.6.6 in /usr/local/lib/python3.7/dist-packages (from tensorflow) (3.10.0.2)\n",
            "Requirement already satisfied: keras-preprocessing>=1.1.1 in /usr/local/lib/python3.7/dist-packages (from tensorflow) (1.1.2)\n",
            "Requirement already satisfied: gast>=0.2.1 in /usr/local/lib/python3.7/dist-packages (from tensorflow) (0.5.3)\n",
            "Requirement already satisfied: opt-einsum>=2.3.2 in /usr/local/lib/python3.7/dist-packages (from tensorflow) (3.3.0)\n",
            "Collecting tf-estimator-nightly==2.8.0.dev2021122109\n",
            "  Downloading tf_estimator_nightly-2.8.0.dev2021122109-py2.py3-none-any.whl (462 kB)\n",
            "\u001b[K     |████████████████████████████████| 462 kB 5.3 MB/s \n",
            "\u001b[?25hRequirement already satisfied: h5py>=2.9.0 in /usr/local/lib/python3.7/dist-packages (from tensorflow) (3.1.0)\n",
            "Requirement already satisfied: astunparse>=1.6.0 in /usr/local/lib/python3.7/dist-packages (from tensorflow) (1.6.3)\n",
            "Requirement already satisfied: libclang>=9.0.1 in /usr/local/lib/python3.7/dist-packages (from tensorflow) (13.0.0)\n",
            "Requirement already satisfied: flatbuffers>=1.12 in /usr/local/lib/python3.7/dist-packages (from tensorflow) (2.0)\n",
            "Requirement already satisfied: tensorflow-io-gcs-filesystem>=0.23.1 in /usr/local/lib/python3.7/dist-packages (from tensorflow) (0.24.0)\n",
            "Requirement already satisfied: wheel<1.0,>=0.23.0 in /usr/local/lib/python3.7/dist-packages (from astunparse>=1.6.0->tensorflow) (0.37.1)\n",
            "Requirement already satisfied: cached-property in /usr/local/lib/python3.7/dist-packages (from h5py>=2.9.0->tensorflow) (1.5.2)\n",
            "Requirement already satisfied: google-auth-oauthlib<0.5,>=0.4.1 in /usr/local/lib/python3.7/dist-packages (from tensorboard<2.9,>=2.8->tensorflow) (0.4.6)\n",
            "Requirement already satisfied: requests<3,>=2.21.0 in /usr/local/lib/python3.7/dist-packages (from tensorboard<2.9,>=2.8->tensorflow) (2.23.0)\n",
            "Requirement already satisfied: tensorboard-data-server<0.7.0,>=0.6.0 in /usr/local/lib/python3.7/dist-packages (from tensorboard<2.9,>=2.8->tensorflow) (0.6.1)\n",
            "Requirement already satisfied: werkzeug>=0.11.15 in /usr/local/lib/python3.7/dist-packages (from tensorboard<2.9,>=2.8->tensorflow) (1.0.1)\n",
            "Requirement already satisfied: markdown>=2.6.8 in /usr/local/lib/python3.7/dist-packages (from tensorboard<2.9,>=2.8->tensorflow) (3.3.6)\n",
            "Requirement already satisfied: google-auth<3,>=1.6.3 in /usr/local/lib/python3.7/dist-packages (from tensorboard<2.9,>=2.8->tensorflow) (1.35.0)\n",
            "Requirement already satisfied: tensorboard-plugin-wit>=1.6.0 in /usr/local/lib/python3.7/dist-packages (from tensorboard<2.9,>=2.8->tensorflow) (1.8.1)\n",
            "Requirement already satisfied: pyasn1-modules>=0.2.1 in /usr/local/lib/python3.7/dist-packages (from google-auth<3,>=1.6.3->tensorboard<2.9,>=2.8->tensorflow) (0.2.8)\n",
            "Requirement already satisfied: cachetools<5.0,>=2.0.0 in /usr/local/lib/python3.7/dist-packages (from google-auth<3,>=1.6.3->tensorboard<2.9,>=2.8->tensorflow) (4.2.4)\n",
            "Requirement already satisfied: rsa<5,>=3.1.4 in /usr/local/lib/python3.7/dist-packages (from google-auth<3,>=1.6.3->tensorboard<2.9,>=2.8->tensorflow) (4.8)\n",
            "Requirement already satisfied: requests-oauthlib>=0.7.0 in /usr/local/lib/python3.7/dist-packages (from google-auth-oauthlib<0.5,>=0.4.1->tensorboard<2.9,>=2.8->tensorflow) (1.3.1)\n",
            "Requirement already satisfied: importlib-metadata>=4.4 in /usr/local/lib/python3.7/dist-packages (from markdown>=2.6.8->tensorboard<2.9,>=2.8->tensorflow) (4.11.2)\n",
            "Requirement already satisfied: zipp>=0.5 in /usr/local/lib/python3.7/dist-packages (from importlib-metadata>=4.4->markdown>=2.6.8->tensorboard<2.9,>=2.8->tensorflow) (3.7.0)\n",
            "Requirement already satisfied: pyasn1<0.5.0,>=0.4.6 in /usr/local/lib/python3.7/dist-packages (from pyasn1-modules>=0.2.1->google-auth<3,>=1.6.3->tensorboard<2.9,>=2.8->tensorflow) (0.4.8)\n",
            "Requirement already satisfied: chardet<4,>=3.0.2 in /usr/local/lib/python3.7/dist-packages (from requests<3,>=2.21.0->tensorboard<2.9,>=2.8->tensorflow) (3.0.4)\n",
            "Requirement already satisfied: certifi>=2017.4.17 in /usr/local/lib/python3.7/dist-packages (from requests<3,>=2.21.0->tensorboard<2.9,>=2.8->tensorflow) (2021.10.8)\n",
            "Requirement already satisfied: urllib3!=1.25.0,!=1.25.1,<1.26,>=1.21.1 in /usr/local/lib/python3.7/dist-packages (from requests<3,>=2.21.0->tensorboard<2.9,>=2.8->tensorflow) (1.24.3)\n",
            "Requirement already satisfied: idna<3,>=2.5 in /usr/local/lib/python3.7/dist-packages (from requests<3,>=2.21.0->tensorboard<2.9,>=2.8->tensorflow) (2.10)\n",
            "Requirement already satisfied: oauthlib>=3.0.0 in /usr/local/lib/python3.7/dist-packages (from requests-oauthlib>=0.7.0->google-auth-oauthlib<0.5,>=0.4.1->tensorboard<2.9,>=2.8->tensorflow) (3.2.0)\n",
            "Installing collected packages: tf-estimator-nightly\n",
            "Successfully installed tf-estimator-nightly-2.8.0.dev2021122109\n"
          ]
        }
      ]
    },
    {
      "cell_type": "code",
      "metadata": {
        "id": "H6RZUm0p4wYJ",
        "outputId": "7a108273-cc2a-4720-fc4f-1caff48e33c7",
        "colab": {
          "base_uri": "https://localhost:8080/",
          "height": 36
        }
      },
      "source": [
        "%tensorflow_version 2.x\n",
        "import tensorflow\n",
        "tensorflow.__version__"
      ],
      "execution_count": 2,
      "outputs": [
        {
          "output_type": "execute_result",
          "data": {
            "application/vnd.google.colaboratory.intrinsic+json": {
              "type": "string"
            },
            "text/plain": [
              "'2.8.0'"
            ]
          },
          "metadata": {},
          "execution_count": 2
        }
      ]
    },
    {
      "cell_type": "code",
      "metadata": {
        "id": "TWi96z-8SyX0"
      },
      "source": [
        "# Initialize the random number generator\n",
        "import random\n",
        "random.seed(0)\n",
        "\n",
        "# Ignore the warnings\n",
        "import warnings\n",
        "warnings.filterwarnings(\"ignore\")"
      ],
      "execution_count": 3,
      "outputs": []
    },
    {
      "cell_type": "markdown",
      "metadata": {
        "id": "WjDBLreywya1"
      },
      "source": [
        "### Import dataset\n",
        "- This dataset can be imported\n",
        "- High level API Keras has some datasets available\n",
        "- You can look at all the datasets available here https://keras.io/datasets/\n"
      ]
    },
    {
      "cell_type": "code",
      "metadata": {
        "id": "Tr_z_2YHxsz5",
        "colab": {
          "base_uri": "https://localhost:8080/"
        },
        "outputId": "6fcbb3f2-1c12-480d-f837-feac386668a3"
      },
      "source": [
        "from tensorflow.keras.datasets import boston_housing\n",
        "\n",
        "# boston_housing.load_data() function returns 2 tuples, one for train data and \n",
        "# other for test data. We will take only train data here.\n",
        "(features, actual_prices), _ = boston_housing.load_data(test_split=0)"
      ],
      "execution_count": 4,
      "outputs": [
        {
          "output_type": "stream",
          "name": "stdout",
          "text": [
            "Downloading data from https://storage.googleapis.com/tensorflow/tf-keras-datasets/boston_housing.npz\n",
            "57344/57026 [==============================] - 0s 0us/step\n",
            "65536/57026 [==================================] - 0s 0us/step\n"
          ]
        }
      ]
    },
    {
      "cell_type": "markdown",
      "metadata": {
        "id": "zXfwvgh2yvI6"
      },
      "source": [
        "### Getting details of dataset\n",
        "- We will see how many rows are there in the data\n",
        "- We will check how many features are there"
      ]
    },
    {
      "cell_type": "code",
      "metadata": {
        "id": "WTYuZMy-xsz8",
        "outputId": "3b7189a8-68ee-4b10-b1a0-ba6677e15e88",
        "colab": {
          "base_uri": "https://localhost:8080/"
        }
      },
      "source": [
        "print('Number of examples: ', features.shape[0])\n",
        "print('Number of features for each example: ', features.shape[1])\n",
        "print('Shape of actual prices data: ', actual_prices.shape)"
      ],
      "execution_count": 5,
      "outputs": [
        {
          "output_type": "stream",
          "name": "stdout",
          "text": [
            "Number of examples:  506\n",
            "Number of features for each example:  13\n",
            "Shape of actual prices data:  (506,)\n"
          ]
        }
      ]
    },
    {
      "cell_type": "markdown",
      "metadata": {
        "id": "9Jpbx46TrpNS"
      },
      "source": [
        "Let's see some values of features and labels from the dataset"
      ]
    },
    {
      "cell_type": "code",
      "metadata": {
        "id": "ccAvp0x-rSQx",
        "outputId": "66f44d66-1fbb-4bcb-c0f9-219dbd481f3f",
        "colab": {
          "base_uri": "https://localhost:8080/"
        }
      },
      "source": [
        "features[:5]"
      ],
      "execution_count": 6,
      "outputs": [
        {
          "output_type": "execute_result",
          "data": {
            "text/plain": [
              "array([[1.23247e+00, 0.00000e+00, 8.14000e+00, 0.00000e+00, 5.38000e-01,\n",
              "        6.14200e+00, 9.17000e+01, 3.97690e+00, 4.00000e+00, 3.07000e+02,\n",
              "        2.10000e+01, 3.96900e+02, 1.87200e+01],\n",
              "       [2.17700e-02, 8.25000e+01, 2.03000e+00, 0.00000e+00, 4.15000e-01,\n",
              "        7.61000e+00, 1.57000e+01, 6.27000e+00, 2.00000e+00, 3.48000e+02,\n",
              "        1.47000e+01, 3.95380e+02, 3.11000e+00],\n",
              "       [4.89822e+00, 0.00000e+00, 1.81000e+01, 0.00000e+00, 6.31000e-01,\n",
              "        4.97000e+00, 1.00000e+02, 1.33250e+00, 2.40000e+01, 6.66000e+02,\n",
              "        2.02000e+01, 3.75520e+02, 3.26000e+00],\n",
              "       [3.96100e-02, 0.00000e+00, 5.19000e+00, 0.00000e+00, 5.15000e-01,\n",
              "        6.03700e+00, 3.45000e+01, 5.98530e+00, 5.00000e+00, 2.24000e+02,\n",
              "        2.02000e+01, 3.96900e+02, 8.01000e+00],\n",
              "       [3.69311e+00, 0.00000e+00, 1.81000e+01, 0.00000e+00, 7.13000e-01,\n",
              "        6.37600e+00, 8.84000e+01, 2.56710e+00, 2.40000e+01, 6.66000e+02,\n",
              "        2.02000e+01, 3.91430e+02, 1.46500e+01]])"
            ]
          },
          "metadata": {},
          "execution_count": 6
        }
      ]
    },
    {
      "cell_type": "code",
      "metadata": {
        "id": "HyjV12H5rcb8",
        "outputId": "861d4fd4-a3dd-4550-a737-480c50cb3b1d",
        "colab": {
          "base_uri": "https://localhost:8080/"
        }
      },
      "source": [
        "actual_prices[:5]"
      ],
      "execution_count": 7,
      "outputs": [
        {
          "output_type": "execute_result",
          "data": {
            "text/plain": [
              "array([15.2, 42.3, 50. , 21.1, 17.7])"
            ]
          },
          "metadata": {},
          "execution_count": 7
        }
      ]
    },
    {
      "cell_type": "markdown",
      "metadata": {
        "id": "9N_pAGEI_RfD"
      },
      "source": [
        "### Build the model\n",
        "- The Sequential model is a linear stack of layers.\n",
        "- The model needs to know what input shape it should expect. For this reason, the first layer in a Sequential model (and only the first, because following layers can do automatic shape inference) needs to receive information about its input shape.\n",
        "- You can also simply add layers via the .add() method"
      ]
    },
    {
      "cell_type": "code",
      "metadata": {
        "id": "FHM9g9hS_RfE"
      },
      "source": [
        "# Initialize Sequential model\n",
        "model = tensorflow.keras.models.Sequential()\n",
        "\n",
        "# Normalize input data\n",
        "model.add(tensorflow.keras.layers.BatchNormalization(input_shape=(13,)))\n",
        "\n",
        "# Add final Dense layer for prediction - Tensorflow.keras declares weights and bias automatically\n",
        "model.add(tensorflow.keras.layers.Dense(1))"
      ],
      "execution_count": 8,
      "outputs": []
    },
    {
      "cell_type": "markdown",
      "metadata": {
        "id": "YJ38weGoqGEX"
      },
      "source": [
        "### Compile the model\n",
        "- Here we configure the model for training\n",
        "- We will specify an optimizer and a loss function"
      ]
    },
    {
      "cell_type": "code",
      "metadata": {
        "id": "1jTbleskqE8c"
      },
      "source": [
        "# Compile the model - add mean squared error as loss and stochastic gradient descent as optimizer\n",
        "model.compile(optimizer='sgd', loss='mse')"
      ],
      "execution_count": 9,
      "outputs": []
    },
    {
      "cell_type": "markdown",
      "metadata": {
        "id": "WQXZi2mi_RfJ"
      },
      "source": [
        "### Fit the model\n",
        "- .fit() trains the model for a fixed number of epochs (iterations on a dataset)\n",
        "- An epoch is an iteration over the entire x and y data provided"
      ]
    },
    {
      "cell_type": "code",
      "metadata": {
        "id": "XSp7Wq5Z_RfM",
        "outputId": "ed7872cd-07d1-49af-812a-e3eaabe97b95",
        "colab": {
          "base_uri": "https://localhost:8080/"
        }
      },
      "source": [
        "model.fit(features, actual_prices, epochs=100, validation_split=0.35)"
      ],
      "execution_count": 10,
      "outputs": [
        {
          "output_type": "stream",
          "name": "stdout",
          "text": [
            "Epoch 1/100\n",
            "11/11 [==============================] - 3s 22ms/step - loss: 261.8863 - val_loss: 138.8113\n",
            "Epoch 2/100\n",
            "11/11 [==============================] - 0s 8ms/step - loss: 45.8387 - val_loss: 138.9380\n",
            "Epoch 3/100\n",
            "11/11 [==============================] - 0s 7ms/step - loss: 37.3192 - val_loss: 193.5593\n",
            "Epoch 4/100\n",
            "11/11 [==============================] - 0s 7ms/step - loss: 38.1284 - val_loss: 117.8267\n",
            "Epoch 5/100\n",
            "11/11 [==============================] - 0s 8ms/step - loss: 32.0506 - val_loss: 80.4972\n",
            "Epoch 6/100\n",
            "11/11 [==============================] - 0s 8ms/step - loss: 35.2290 - val_loss: 33.2947\n",
            "Epoch 7/100\n",
            "11/11 [==============================] - 0s 7ms/step - loss: 29.1884 - val_loss: 51.2863\n",
            "Epoch 8/100\n",
            "11/11 [==============================] - 0s 7ms/step - loss: 35.0397 - val_loss: 67.2773\n",
            "Epoch 9/100\n",
            "11/11 [==============================] - 0s 7ms/step - loss: 40.5117 - val_loss: 29.7212\n",
            "Epoch 10/100\n",
            "11/11 [==============================] - 0s 7ms/step - loss: 29.9980 - val_loss: 44.7243\n",
            "Epoch 11/100\n",
            "11/11 [==============================] - 0s 7ms/step - loss: 31.2506 - val_loss: 38.5720\n",
            "Epoch 12/100\n",
            "11/11 [==============================] - 0s 8ms/step - loss: 25.8912 - val_loss: 42.0676\n",
            "Epoch 13/100\n",
            "11/11 [==============================] - 0s 7ms/step - loss: 27.2894 - val_loss: 29.4754\n",
            "Epoch 14/100\n",
            "11/11 [==============================] - 0s 7ms/step - loss: 28.2957 - val_loss: 25.5410\n",
            "Epoch 15/100\n",
            "11/11 [==============================] - 0s 7ms/step - loss: 39.2968 - val_loss: 42.0475\n",
            "Epoch 16/100\n",
            "11/11 [==============================] - 0s 7ms/step - loss: 33.5104 - val_loss: 59.9111\n",
            "Epoch 17/100\n",
            "11/11 [==============================] - 0s 8ms/step - loss: 32.0989 - val_loss: 43.2672\n",
            "Epoch 18/100\n",
            "11/11 [==============================] - 0s 8ms/step - loss: 29.7386 - val_loss: 25.1087\n",
            "Epoch 19/100\n",
            "11/11 [==============================] - 0s 8ms/step - loss: 29.4371 - val_loss: 24.4949\n",
            "Epoch 20/100\n",
            "11/11 [==============================] - 0s 7ms/step - loss: 32.1667 - val_loss: 33.6115\n",
            "Epoch 21/100\n",
            "11/11 [==============================] - 0s 7ms/step - loss: 27.6460 - val_loss: 50.5293\n",
            "Epoch 22/100\n",
            "11/11 [==============================] - 0s 9ms/step - loss: 31.6747 - val_loss: 39.1522\n",
            "Epoch 23/100\n",
            "11/11 [==============================] - 0s 7ms/step - loss: 33.1575 - val_loss: 44.9272\n",
            "Epoch 24/100\n",
            "11/11 [==============================] - 0s 7ms/step - loss: 33.3996 - val_loss: 28.3871\n",
            "Epoch 25/100\n",
            "11/11 [==============================] - 0s 7ms/step - loss: 28.7388 - val_loss: 50.2491\n",
            "Epoch 26/100\n",
            "11/11 [==============================] - 0s 8ms/step - loss: 29.8179 - val_loss: 26.4064\n",
            "Epoch 27/100\n",
            "11/11 [==============================] - 0s 8ms/step - loss: 28.2273 - val_loss: 27.2076\n",
            "Epoch 28/100\n",
            "11/11 [==============================] - 0s 12ms/step - loss: 31.3511 - val_loss: 28.4258\n",
            "Epoch 29/100\n",
            "11/11 [==============================] - 0s 7ms/step - loss: 32.4417 - val_loss: 38.7547\n",
            "Epoch 30/100\n",
            "11/11 [==============================] - 0s 8ms/step - loss: 29.4127 - val_loss: 25.1260\n",
            "Epoch 31/100\n",
            "11/11 [==============================] - 0s 7ms/step - loss: 27.3185 - val_loss: 45.8146\n",
            "Epoch 32/100\n",
            "11/11 [==============================] - 0s 8ms/step - loss: 33.4830 - val_loss: 63.3534\n",
            "Epoch 33/100\n",
            "11/11 [==============================] - 0s 8ms/step - loss: 32.2051 - val_loss: 27.9709\n",
            "Epoch 34/100\n",
            "11/11 [==============================] - 0s 8ms/step - loss: 30.4446 - val_loss: 30.3395\n",
            "Epoch 35/100\n",
            "11/11 [==============================] - 0s 7ms/step - loss: 28.0784 - val_loss: 26.6431\n",
            "Epoch 36/100\n",
            "11/11 [==============================] - 0s 7ms/step - loss: 29.0004 - val_loss: 23.8394\n",
            "Epoch 37/100\n",
            "11/11 [==============================] - 0s 7ms/step - loss: 28.2630 - val_loss: 44.7910\n",
            "Epoch 38/100\n",
            "11/11 [==============================] - 0s 8ms/step - loss: 30.0988 - val_loss: 22.7019\n",
            "Epoch 39/100\n",
            "11/11 [==============================] - 0s 8ms/step - loss: 28.5874 - val_loss: 24.2084\n",
            "Epoch 40/100\n",
            "11/11 [==============================] - 0s 8ms/step - loss: 27.7722 - val_loss: 50.6000\n",
            "Epoch 41/100\n",
            "11/11 [==============================] - 0s 7ms/step - loss: 33.2180 - val_loss: 28.5706\n",
            "Epoch 42/100\n",
            "11/11 [==============================] - 0s 7ms/step - loss: 29.0024 - val_loss: 58.2960\n",
            "Epoch 43/100\n",
            "11/11 [==============================] - 0s 8ms/step - loss: 35.1220 - val_loss: 31.5799\n",
            "Epoch 44/100\n",
            "11/11 [==============================] - 0s 8ms/step - loss: 28.0232 - val_loss: 47.4851\n",
            "Epoch 45/100\n",
            "11/11 [==============================] - 0s 7ms/step - loss: 27.9366 - val_loss: 33.3101\n",
            "Epoch 46/100\n",
            "11/11 [==============================] - 0s 7ms/step - loss: 28.7012 - val_loss: 26.6984\n",
            "Epoch 47/100\n",
            "11/11 [==============================] - 0s 8ms/step - loss: 28.7461 - val_loss: 23.7890\n",
            "Epoch 48/100\n",
            "11/11 [==============================] - 0s 7ms/step - loss: 25.0811 - val_loss: 24.5057\n",
            "Epoch 49/100\n",
            "11/11 [==============================] - 0s 8ms/step - loss: 26.3681 - val_loss: 33.8563\n",
            "Epoch 50/100\n",
            "11/11 [==============================] - 0s 7ms/step - loss: 29.6746 - val_loss: 25.6006\n",
            "Epoch 51/100\n",
            "11/11 [==============================] - 0s 8ms/step - loss: 28.8784 - val_loss: 24.1884\n",
            "Epoch 52/100\n",
            "11/11 [==============================] - 0s 8ms/step - loss: 27.4260 - val_loss: 28.5561\n",
            "Epoch 53/100\n",
            "11/11 [==============================] - 0s 7ms/step - loss: 30.3600 - val_loss: 27.2278\n",
            "Epoch 54/100\n",
            "11/11 [==============================] - 0s 7ms/step - loss: 31.3254 - val_loss: 24.8954\n",
            "Epoch 55/100\n",
            "11/11 [==============================] - 0s 7ms/step - loss: 35.1132 - val_loss: 28.3498\n",
            "Epoch 56/100\n",
            "11/11 [==============================] - 0s 7ms/step - loss: 26.0091 - val_loss: 33.4296\n",
            "Epoch 57/100\n",
            "11/11 [==============================] - 0s 7ms/step - loss: 27.8300 - val_loss: 25.1129\n",
            "Epoch 58/100\n",
            "11/11 [==============================] - 0s 7ms/step - loss: 27.7553 - val_loss: 30.7514\n",
            "Epoch 59/100\n",
            "11/11 [==============================] - 0s 7ms/step - loss: 25.4468 - val_loss: 26.9299\n",
            "Epoch 60/100\n",
            "11/11 [==============================] - 0s 8ms/step - loss: 25.1003 - val_loss: 32.6776\n",
            "Epoch 61/100\n",
            "11/11 [==============================] - 0s 7ms/step - loss: 30.4852 - val_loss: 59.4196\n",
            "Epoch 62/100\n",
            "11/11 [==============================] - 0s 8ms/step - loss: 29.7839 - val_loss: 31.6121\n",
            "Epoch 63/100\n",
            "11/11 [==============================] - 0s 7ms/step - loss: 32.3094 - val_loss: 24.0957\n",
            "Epoch 64/100\n",
            "11/11 [==============================] - 0s 7ms/step - loss: 25.4129 - val_loss: 23.3367\n",
            "Epoch 65/100\n",
            "11/11 [==============================] - 0s 7ms/step - loss: 26.5751 - val_loss: 32.7763\n",
            "Epoch 66/100\n",
            "11/11 [==============================] - 0s 7ms/step - loss: 26.2970 - val_loss: 25.4479\n",
            "Epoch 67/100\n",
            "11/11 [==============================] - 0s 8ms/step - loss: 27.5481 - val_loss: 26.5931\n",
            "Epoch 68/100\n",
            "11/11 [==============================] - 0s 7ms/step - loss: 28.3137 - val_loss: 24.3737\n",
            "Epoch 69/100\n",
            "11/11 [==============================] - 0s 8ms/step - loss: 28.7139 - val_loss: 38.3217\n",
            "Epoch 70/100\n",
            "11/11 [==============================] - 0s 7ms/step - loss: 26.5832 - val_loss: 25.6192\n",
            "Epoch 71/100\n",
            "11/11 [==============================] - 0s 7ms/step - loss: 29.0236 - val_loss: 28.4710\n",
            "Epoch 72/100\n",
            "11/11 [==============================] - 0s 9ms/step - loss: 26.6826 - val_loss: 32.1054\n",
            "Epoch 73/100\n",
            "11/11 [==============================] - 0s 7ms/step - loss: 26.6525 - val_loss: 24.0111\n",
            "Epoch 74/100\n",
            "11/11 [==============================] - 0s 8ms/step - loss: 28.3125 - val_loss: 24.9908\n",
            "Epoch 75/100\n",
            "11/11 [==============================] - 0s 7ms/step - loss: 28.0236 - val_loss: 31.2114\n",
            "Epoch 76/100\n",
            "11/11 [==============================] - 0s 8ms/step - loss: 28.7061 - val_loss: 33.3597\n",
            "Epoch 77/100\n",
            "11/11 [==============================] - 0s 8ms/step - loss: 25.7122 - val_loss: 23.9677\n",
            "Epoch 78/100\n",
            "11/11 [==============================] - 0s 8ms/step - loss: 28.2295 - val_loss: 49.0776\n",
            "Epoch 79/100\n",
            "11/11 [==============================] - 0s 7ms/step - loss: 34.1835 - val_loss: 45.5490\n",
            "Epoch 80/100\n",
            "11/11 [==============================] - 0s 8ms/step - loss: 27.0548 - val_loss: 31.3192\n",
            "Epoch 81/100\n",
            "11/11 [==============================] - 0s 8ms/step - loss: 26.9607 - val_loss: 33.4711\n",
            "Epoch 82/100\n",
            "11/11 [==============================] - 0s 8ms/step - loss: 26.1948 - val_loss: 23.1958\n",
            "Epoch 83/100\n",
            "11/11 [==============================] - 0s 7ms/step - loss: 28.3276 - val_loss: 23.6359\n",
            "Epoch 84/100\n",
            "11/11 [==============================] - 0s 7ms/step - loss: 31.0244 - val_loss: 29.5783\n",
            "Epoch 85/100\n",
            "11/11 [==============================] - 0s 8ms/step - loss: 28.1568 - val_loss: 25.1523\n",
            "Epoch 86/100\n",
            "11/11 [==============================] - 0s 8ms/step - loss: 24.2790 - val_loss: 24.2651\n",
            "Epoch 87/100\n",
            "11/11 [==============================] - 0s 7ms/step - loss: 28.0581 - val_loss: 31.2445\n",
            "Epoch 88/100\n",
            "11/11 [==============================] - 0s 8ms/step - loss: 28.6964 - val_loss: 29.3945\n",
            "Epoch 89/100\n",
            "11/11 [==============================] - 0s 7ms/step - loss: 32.1559 - val_loss: 35.9483\n",
            "Epoch 90/100\n",
            "11/11 [==============================] - 0s 7ms/step - loss: 28.2594 - val_loss: 49.0907\n",
            "Epoch 91/100\n",
            "11/11 [==============================] - 0s 7ms/step - loss: 30.8278 - val_loss: 24.9295\n",
            "Epoch 92/100\n",
            "11/11 [==============================] - 0s 7ms/step - loss: 27.0342 - val_loss: 62.9836\n",
            "Epoch 93/100\n",
            "11/11 [==============================] - 0s 7ms/step - loss: 29.2225 - val_loss: 36.3327\n",
            "Epoch 94/100\n",
            "11/11 [==============================] - 0s 8ms/step - loss: 28.8662 - val_loss: 35.0523\n",
            "Epoch 95/100\n",
            "11/11 [==============================] - 0s 7ms/step - loss: 30.5826 - val_loss: 53.4803\n",
            "Epoch 96/100\n",
            "11/11 [==============================] - 0s 7ms/step - loss: 30.5873 - val_loss: 23.3968\n",
            "Epoch 97/100\n",
            "11/11 [==============================] - 0s 7ms/step - loss: 27.9590 - val_loss: 55.5874\n",
            "Epoch 98/100\n",
            "11/11 [==============================] - 0s 7ms/step - loss: 28.7761 - val_loss: 30.1629\n",
            "Epoch 99/100\n",
            "11/11 [==============================] - 0s 7ms/step - loss: 27.0908 - val_loss: 23.9663\n",
            "Epoch 100/100\n",
            "11/11 [==============================] - 0s 7ms/step - loss: 26.3935 - val_loss: 26.4171\n"
          ]
        },
        {
          "output_type": "execute_result",
          "data": {
            "text/plain": [
              "<keras.callbacks.History at 0x7fc610042310>"
            ]
          },
          "metadata": {},
          "execution_count": 10
        }
      ]
    },
    {
      "cell_type": "code",
      "metadata": {
        "id": "tNAGYz8xrNnC",
        "outputId": "38d79af5-47e1-46ac-ab7d-5e00ee141b3f",
        "colab": {
          "base_uri": "https://localhost:8080/"
        }
      },
      "source": [
        "import numpy as np\n",
        "test_x = np.reshape([1.2, 0, 8.14e+00, 0.0e+00, 5.3e-01, 6.14e+00, 9.170e+01, 3.97e+00, 4, 3.07e+02, 2.10e+01, 3.96e+02, 1.872e+01],(-1, 13))\n",
        "\n",
        "test_y = model.predict(test_x)\n",
        "\n",
        "print(test_y)"
      ],
      "execution_count": 11,
      "outputs": [
        {
          "output_type": "stream",
          "name": "stdout",
          "text": [
            "[[16.14465]]\n"
          ]
        }
      ]
    },
    {
      "cell_type": "code",
      "metadata": {
        "id": "LxuqsOaSS2Rb"
      },
      "source": [
        ""
      ],
      "execution_count": null,
      "outputs": []
    }
  ]
}